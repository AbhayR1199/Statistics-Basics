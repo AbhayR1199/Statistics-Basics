{
  "nbformat": 4,
  "nbformat_minor": 0,
  "metadata": {
    "colab": {
      "provenance": []
    },
    "kernelspec": {
      "name": "python3",
      "display_name": "Python 3"
    },
    "language_info": {
      "name": "python"
    }
  },
  "cells": [
    {
      "cell_type": "code",
      "execution_count": null,
      "metadata": {
        "id": "9PCFiSGx6AdF"
      },
      "outputs": [],
      "source": [
        "# Statistics Basics Assignment"
      ]
    },
    {
      "cell_type": "markdown",
      "source": [
        "Question 1: What is the difference between descriptive statistics and inferential statistics? Explain with examples."
      ],
      "metadata": {
        "id": "JUqoMI7L6bLd"
      }
    },
    {
      "cell_type": "markdown",
      "source": [
        "Answer:\n",
        "\n",
        "Descriptive Statistics\n",
        "Summarizes and describes the main features of a dataset. It deals with actual data collected and does not make predictions.\n",
        "Examples: Mean, Median, Mode, Standard Deviation, Charts, Tables.\n",
        "E.g., The average height of 50 students in a class is 165 cm.\n",
        "\n",
        "Inferential Statistics\n",
        "Makes predictions, inferences, or generalizations about a population based on a sample. It uses probability theory.\n",
        "Examples: Hypothesis Testing, Confidence Intervals, Regression Analysis.\n",
        "E.g., Predicting the average height of all students in a country from a sample of 500 students."
      ],
      "metadata": {
        "id": "e3LLuAPt6bYl"
      }
    },
    {
      "cell_type": "markdown",
      "source": [
        "Question 2: What is sampling in statistics? Explain the differences between random and stratified sampling.\n"
      ],
      "metadata": {
        "id": "MEg8HfkZ6bbh"
      }
    },
    {
      "cell_type": "markdown",
      "source": [
        "Answer:\n",
        "\n",
        "Sampling: The process of selecting a subset of individuals from a population to estimate characteristics of the whole population.\n",
        "\n",
        "Random Sampling: Every individual has an equal chance of being selected.\n",
        "E.g., Picking 100 students randomly from a list of all students.\n",
        "\n",
        "Stratified Sampling: Population is divided into subgroups (strata) based on certain characteristics, and random samples are taken from each subgroup.\n",
        "E.g., Dividing students by gender and then sampling equally from each group."
      ],
      "metadata": {
        "id": "R4GOuRTM6beT"
      }
    },
    {
      "cell_type": "markdown",
      "source": [
        "Question 3: Define mean, median, and mode. Explain why these measures of central\n",
        "tendency are important.\n"
      ],
      "metadata": {
        "id": "2BrNtC0g6bhX"
      }
    },
    {
      "cell_type": "markdown",
      "source": [
        "Answer:\n",
        "\n",
        "Mean: Average value = Sum of all values ÷ Number of values.\n",
        "\n",
        "Median: Middle value when data is sorted.\n",
        "\n",
        "Mode: Value that appears most frequently.\n",
        "\n",
        "Importance:\n",
        "These are measures of central tendency that summarize data into a single representative value, useful for comparison and understanding trends."
      ],
      "metadata": {
        "id": "1ATT-Gsk6blC"
      }
    },
    {
      "cell_type": "markdown",
      "source": [
        "Question 4: Explain skewness and kurtosis. What does a positive skew imply about the data?"
      ],
      "metadata": {
        "id": "okdfnv-o6ydN"
      }
    },
    {
      "cell_type": "markdown",
      "source": [
        "Answer:\n",
        "\n",
        "Skewness: Measures the asymmetry of the data distribution.\n",
        "\n",
        "Positive Skew → Tail on the right side is longer; most values are on the left.\n",
        "\n",
        "Negative Skew → Tail on the left side is longer; most values are on the right.\n",
        "\n",
        "Kurtosis: Measures the \"tailedness\" of the distribution.\n",
        "\n",
        "High Kurtosis → Heavy tails and outliers.\n",
        "\n",
        "Low Kurtosis → Light tails.\n",
        "\n",
        "Positive Skew: Data has more small values and fewer large values."
      ],
      "metadata": {
        "id": "Ua1OLzLo6yhI"
      }
    },
    {
      "cell_type": "markdown",
      "source": [
        "Question 5: Implement a Python program to compute the mean, median, and mode of\n",
        "a given list of numbers.\n",
        "\n",
        "numbers = [12, 15, 12, 18, 19, 12, 20, 22, 19, 19, 24, 24, 24, 26, 28]\n",
        "\n",
        "(Include your Python code and output in the code box below.)\n"
      ],
      "metadata": {
        "id": "XD2MGoBp6ykZ"
      }
    },
    {
      "cell_type": "code",
      "source": [
        "import statistics as stats\n",
        "\n",
        "numbers = [12, 15, 12, 18, 19, 12, 20, 22, 19, 19, 24, 24, 24, 26, 28]\n",
        "\n",
        "mean_value = stats.mean(numbers)\n",
        "median_value = stats.median(numbers)\n",
        "mode_value = stats.mode(numbers)\n",
        "\n",
        "print(\"Mean:\", mean_value)\n",
        "print(\"Median:\", median_value)\n",
        "print(\"Mode:\", mode_value)\n"
      ],
      "metadata": {
        "colab": {
          "base_uri": "https://localhost:8080/"
        },
        "id": "ttz1wWzF7F5m",
        "outputId": "927bfa60-7813-450c-dd27-24a78ede42cf"
      },
      "execution_count": 1,
      "outputs": [
        {
          "output_type": "stream",
          "name": "stdout",
          "text": [
            "Mean: 19.6\n",
            "Median: 19\n",
            "Mode: 12\n"
          ]
        }
      ]
    },
    {
      "cell_type": "markdown",
      "source": [
        "Question 6: Compute the covariance and correlation coefficient between the following\n",
        "two datasets provided as lists in Python:\n",
        "list_x = [10, 20, 30, 40, 50]\n",
        "list_y = [15, 25, 35, 45, 60]\n",
        "(Include your Python code and output in the code box below.)\n"
      ],
      "metadata": {
        "id": "czAsExhJ7LB1"
      }
    },
    {
      "cell_type": "code",
      "source": [
        "import numpy as np\n",
        "\n",
        "list_x = [10, 20, 30, 40, 50]\n",
        "list_y = [15, 25, 35, 45, 60]\n",
        "\n",
        "cov_matrix = np.cov(list_x, list_y, bias=False)\n",
        "correlation_matrix = np.corrcoef(list_x, list_y)\n",
        "\n",
        "print(\"Covariance:\", cov_matrix[0, 1])\n",
        "print(\"Correlation Coefficient:\", correlation_matrix[0, 1])\n"
      ],
      "metadata": {
        "colab": {
          "base_uri": "https://localhost:8080/"
        },
        "id": "runKJUO-7OFX",
        "outputId": "3bfaa4b2-bf86-470b-9742-9eff985d7a59"
      },
      "execution_count": 2,
      "outputs": [
        {
          "output_type": "stream",
          "name": "stdout",
          "text": [
            "Covariance: 275.0\n",
            "Correlation Coefficient: 0.995893206467704\n"
          ]
        }
      ]
    },
    {
      "cell_type": "markdown",
      "source": [
        "Question 7: Write a Python script to draw a boxplot for the following numeric list and identify its outliers.\n",
        "\n",
        "Explain the result:\n",
        "\n",
        "data = [12, 14, 14, 15, 18, 19, 19, 21, 22, 22, 23, 23, 24, 26, 29, 35]\n",
        "(Include your Python code and output in the code box below.)\n"
      ],
      "metadata": {
        "id": "HsdKYywm7U03"
      }
    },
    {
      "cell_type": "code",
      "source": [
        "import matplotlib.pyplot as plt\n",
        "\n",
        "data = [12, 14, 14, 15, 18, 19, 19, 21, 22, 22, 23, 23, 24, 26, 29, 35]\n",
        "\n",
        "plt.boxplot(data)\n",
        "plt.title(\"Boxplot of Data\")\n",
        "plt.ylabel(\"Values\")\n",
        "plt.show()\n"
      ],
      "metadata": {
        "colab": {
          "base_uri": "https://localhost:8080/",
          "height": 452
        },
        "id": "uhqcduSX7XGX",
        "outputId": "20b3d494-8108-4647-be13-efe1d76253ef"
      },
      "execution_count": 3,
      "outputs": [
        {
          "output_type": "display_data",
          "data": {
            "text/plain": [
              "<Figure size 640x480 with 1 Axes>"
            ],
            "image/png": "[encoded data removed]"
          },
          "metadata": {}
        }
      ]
    },
    {
      "cell_type": "markdown",
      "source": [
        "Explanation:\n",
        "\n",
        "The box represents the interquartile range (IQR).\n",
        "\n",
        "Points outside 1.5 × IQR from Q1 or Q3 are outliers.\n",
        "\n",
        "In this dataset, 35 is likely an outlier."
      ],
      "metadata": {
        "id": "Cqf4WJ7E7cei"
      }
    },
    {
      "cell_type": "markdown",
      "source": [
        "Question 8: You are working as a data analyst in an e-commerce company. The\n",
        "marketing team wants to know if there is a relationship between advertising spend and daily sales.\n",
        "\n",
        "● Explain how you would use covariance and correlation to explore this\n",
        "relationship.\n",
        "\n",
        "● Write Python code to compute the correlation between the two lists:\n",
        "\n",
        "advertising_spend = [200, 250, 300, 400, 500]\n",
        "\n",
        "daily_sales = [2200, 2450, 2750, 3200, 4000]\n",
        "\n",
        "(Include your Python code and output in the code box below.)"
      ],
      "metadata": {
        "id": "FstOPMTs7jqe"
      }
    },
    {
      "cell_type": "code",
      "source": [
        "advertising_spend = [200, 250, 300, 400, 500]\n",
        "daily_sales = [2200, 2450, 2750, 3200, 4000]\n",
        "\n",
        "cov_matrix = np.cov(advertising_spend, daily_sales, bias=False)\n",
        "correlation_matrix = np.corrcoef(advertising_spend, daily_sales)\n",
        "\n",
        "print(\"Covariance:\", cov_matrix[0, 1])\n",
        "print(\"Correlation Coefficient:\", correlation_matrix[0, 1])\n"
      ],
      "metadata": {
        "colab": {
          "base_uri": "https://localhost:8080/"
        },
        "id": "Eg-qtUjd7l_I",
        "outputId": "a0167cca-22f6-40d8-f6ce-810f074d4148"
      },
      "execution_count": 4,
      "outputs": [
        {
          "output_type": "stream",
          "name": "stdout",
          "text": [
            "Covariance: 84875.0\n",
            "Correlation Coefficient: 0.9935824101653329\n"
          ]
        }
      ]
    },
    {
      "cell_type": "markdown",
      "source": [
        "Interpretation:\n",
        "\n",
        "Very strong positive relationship — more ad spend → higher sales."
      ],
      "metadata": {
        "id": "FMXsmkEV7peO"
      }
    },
    {
      "cell_type": "markdown",
      "source": [
        "Question 9: Your team has collected customer satisfaction survey data on a scale of 1-10 and wants to understand its distribution before launching a new product.\n",
        "\n",
        "● Explain which summary statistics and visualizations (e.g. mean, standard\n",
        "deviation, histogram) you’d use.\n",
        "\n",
        "● Write Python code to create a histogram using Matplotlib for the survey data:\n",
        "\n",
        "survey_scores = [7, 8, 5, 9, 6, 7, 8, 9, 10, 4, 7, 6, 9, 8, 7]\n",
        "\n",
        "(Include your Python code and output in the code box below.)\n"
      ],
      "metadata": {
        "id": "1mdc3DRU73pP"
      }
    },
    {
      "cell_type": "markdown",
      "source": [
        "Answer:\n",
        "\n",
        "Explanation:\n",
        "\n",
        "Summary Statistics: Mean, Median, Mode, Standard Deviation.\n",
        "\n",
        "Visualizations: Histogram for frequency distribution, Boxplot for outliers."
      ],
      "metadata": {
        "id": "6KkE9PeT8J4v"
      }
    },
    {
      "cell_type": "code",
      "source": [
        "survey_scores = [7, 8, 5, 9, 6, 7, 8, 9, 10, 4, 7, 6, 9, 8, 7]\n",
        "\n",
        "plt.hist(survey_scores, bins=6, edgecolor='black')\n",
        "plt.title(\"Customer Satisfaction Scores\")\n",
        "plt.xlabel(\"Score\")\n",
        "plt.ylabel(\"Frequency\")\n",
        "plt.show()\n"
      ],
      "metadata": {
        "colab": {
          "base_uri": "https://localhost:8080/",
          "height": 472
        },
        "id": "NR5CdPr28K93",
        "outputId": "eb005f49-01e8-4ac0-c217-704e76c82c0a"
      },
      "execution_count": 5,
      "outputs": [
        {
          "output_type": "display_data",
          "data": {
            "text/plain": [
              "<Figure size 640x480 with 1 Axes>"
            ],
            "image/png": "[encoded data removed]"
          },
          "metadata": {}
        }
      ]
    },
    {
      "cell_type": "markdown",
      "source": [
        "Interpretation:\n",
        "\n",
        "Peaks indicate common ratings.\n",
        "\n",
        "Histogram shows distribution symmetry or skewness."
      ],
      "metadata": {
        "id": "sHGePf0b8T_Y"
      }
    }
  ]
}